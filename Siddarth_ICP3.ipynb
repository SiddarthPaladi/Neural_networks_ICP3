{
  "nbformat": 4,
  "nbformat_minor": 0,
  "metadata": {
    "colab": {
      "provenance": []
    },
    "kernelspec": {
      "name": "python3",
      "display_name": "Python 3"
    },
    "language_info": {
      "name": "python"
    }
  },
  "cells": [
    {
      "cell_type": "code",
      "execution_count": 2,
      "metadata": {
        "colab": {
          "base_uri": "https://localhost:8080/"
        },
        "id": "Y9H6_cMoaFF2",
        "outputId": "51a0be54-5617-4f25-d28b-f0d982abeddb"
      },
      "outputs": [
        {
          "output_type": "stream",
          "name": "stdout",
          "text": [
            "Average Salary of All Employees: 61666.666666666664\n",
            "Average Salary of Fulltime Employees: 75000.0\n",
            "Total Employee Count: 5\n"
          ]
        }
      ],
      "source": [
        "class Employee:\n",
        "    emp_count = 0\n",
        "\n",
        "    def __init__(self, n, f, s, d):\n",
        "        self.n = n\n",
        "        self.f = f\n",
        "        self.s = s\n",
        "        self.d = d\n",
        "        Employee.emp_count += 1\n",
        "\n",
        "    @staticmethod\n",
        "    def avg_salary(emps):\n",
        "        total_s = sum(emp.s for emp in emps)\n",
        "        return total_s / len(emps) if len(emps) > 0 else 0\n",
        "\n",
        "class FulltimeEmployee(Employee):\n",
        "    def __init__(self, n, f, s, d):\n",
        "        super().__init__(n, f, s, d)\n",
        "\n",
        "# Create instances of Employee class\n",
        "e1 = Employee(\"John \", \"Spouse & 2 kids\", 60000, \"HR\")\n",
        "e2 = Employee(\"Jane \", \"Partner & 1 kid\", 75000, \"Finance\")\n",
        "e3 = Employee(\"Michael \", \"Single\", 50000, \"IT\")\n",
        "\n",
        "# Create instances of FulltimeEmployee class\n",
        "fte1 = FulltimeEmployee(\"Alice \", \"Spouse\", 80000, \"Marketing\")\n",
        "fte2 = FulltimeEmployee(\"Robert \", \"Single\", 70000, \"Sales\")\n",
        "\n",
        "# Call member functions\n",
        "emp_list = [e1, e2, e3]\n",
        "fte_list = [fte1, fte2]\n",
        "\n",
        "avg_sal_all = Employee.avg_salary(emp_list)\n",
        "avg_sal_fulltime = Employee.avg_salary(fte_list)\n",
        "\n",
        "print(\"Average Salary of All Employees:\", avg_sal_all)\n",
        "print(\"Average Salary of Fulltime Employees:\", avg_sal_fulltime)\n",
        "print(\"Total Employee Count:\", Employee.emp_count)\n"
      ]
    },
    {
      "cell_type": "code",
      "source": [
        "import numpy as np\n",
        "random_vector = np.random.uniform(1, 20, size=20)\n",
        "print(\"Original array:\")\n",
        "print(random_vector)\n",
        "\n",
        "reshaped_array = random_vector.reshape(4, 5)\n",
        "\n",
        "max_indices = np.argmax(reshaped_array, axis=1)\n",
        "\n",
        "reshaped_array[np.arange(4), max_indices] = 0\n",
        "\n",
        "print(\"\\nReshaped array:\")\n",
        "print(reshaped_array)\n"
      ],
      "metadata": {
        "colab": {
          "base_uri": "https://localhost:8080/"
        },
        "id": "2J8ySKdhaGeT",
        "outputId": "8792c3fa-67d8-4ecf-976e-d5b53dbdd4a6"
      },
      "execution_count": null,
      "outputs": [
        {
          "output_type": "stream",
          "name": "stdout",
          "text": [
            "Original array:\n",
            "[ 2.35104668 13.2579605  18.30664635  1.19127204  2.41996359 13.59967525\n",
            " 15.27520732 12.29234851  2.14092215  7.62587702 11.64479036 14.07696663\n",
            " 17.36751437  5.74298434 16.68339783  9.30785615 10.90069013 15.37107566\n",
            "  4.75717622 19.23561929]\n",
            "\n",
            "Reshaped array:\n",
            "[[ 2.35104668 13.2579605   0.          1.19127204  2.41996359]\n",
            " [13.59967525  0.         12.29234851  2.14092215  7.62587702]\n",
            " [11.64479036 14.07696663  0.          5.74298434 16.68339783]\n",
            " [ 9.30785615 10.90069013 15.37107566  4.75717622  0.        ]]\n"
          ]
        }
      ]
    },
    {
      "cell_type": "code",
      "source": [],
      "metadata": {
        "id": "G4FdgJckaWmB"
      },
      "execution_count": null,
      "outputs": []
    }
  ]
}